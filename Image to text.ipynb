{
 "cells": [
  {
   "cell_type": "code",
   "execution_count": 1,
   "id": "825590f8",
   "metadata": {},
   "outputs": [
    {
     "name": "stdout",
     "output_type": "stream",
     "text": [
      "Collecting opencv-python"
     ]
    },
    {
     "name": "stderr",
     "output_type": "stream",
     "text": [
      "ERROR: Could not install packages due to an OSError: [WinError 5] Access is denied: 'C:\\\\Users\\\\masud\\\\anaconda3\\\\Lib\\\\site-packages\\\\cv2\\\\cv2.pyd'\n",
      "Consider using the `--user` option or check the permissions.\n",
      "\n"
     ]
    },
    {
     "name": "stdout",
     "output_type": "stream",
     "text": [
      "\n",
      "  Using cached opencv_python-4.7.0.72-cp37-abi3-win_amd64.whl (38.2 MB)\n",
      "Requirement already satisfied: numpy>=1.17.0 in c:\\users\\masud\\anaconda3\\lib\\site-packages (from opencv-python) (1.21.5)\n",
      "Installing collected packages: opencv-python\n",
      "Requirement already satisfied: matplotlib in c:\\users\\masud\\anaconda3\\lib\\site-packages (3.5.1)\n",
      "Requirement already satisfied: packaging>=20.0 in c:\\users\\masud\\anaconda3\\lib\\site-packages (from matplotlib) (21.3)\n",
      "Requirement already satisfied: pyparsing>=2.2.1 in c:\\users\\masud\\anaconda3\\lib\\site-packages (from matplotlib) (3.0.4)\n",
      "Requirement already satisfied: numpy>=1.17 in c:\\users\\masud\\anaconda3\\lib\\site-packages (from matplotlib) (1.21.5)\n",
      "Requirement already satisfied: python-dateutil>=2.7 in c:\\users\\masud\\anaconda3\\lib\\site-packages (from matplotlib) (2.7.5)\n",
      "Requirement already satisfied: fonttools>=4.22.0 in c:\\users\\masud\\anaconda3\\lib\\site-packages (from matplotlib) (4.25.0)\n",
      "Requirement already satisfied: kiwisolver>=1.0.1 in c:\\users\\masud\\anaconda3\\lib\\site-packages (from matplotlib) (1.3.2)\n",
      "Requirement already satisfied: pillow>=6.2.0 in c:\\users\\masud\\anaconda3\\lib\\site-packages (from matplotlib) (9.0.1)\n",
      "Requirement already satisfied: cycler>=0.10 in c:\\users\\masud\\anaconda3\\lib\\site-packages (from matplotlib) (0.11.0)\n",
      "Requirement already satisfied: six>=1.5 in c:\\users\\masud\\anaconda3\\lib\\site-packages (from python-dateutil>=2.7->matplotlib) (1.16.0)\n",
      "Requirement already satisfied: numpy in c:\\users\\masud\\anaconda3\\lib\\site-packages (1.21.5)\n"
     ]
    }
   ],
   "source": [
    "!pip install opencv-python\n",
    "!pip install matplotlib\n",
    "!pip install numpy"
   ]
  },
  {
   "cell_type": "code",
   "execution_count": 3,
   "id": "3f3130c6",
   "metadata": {},
   "outputs": [
    {
     "name": "stdout",
     "output_type": "stream",
     "text": [
      "Requirement already satisfied: torch in c:\\users\\masud\\anaconda3\\lib\\site-packages (1.7.1+cpu)\n",
      "Requirement already satisfied: torchvision in c:\\users\\masud\\anaconda3\\lib\\site-packages (0.8.2+cpu)\n",
      "Requirement already satisfied: torchaudio in c:\\users\\masud\\anaconda3\\lib\\site-packages (0.7.2)\n",
      "Requirement already satisfied: typing-extensions in c:\\users\\masud\\anaconda3\\lib\\site-packages (from torch) (4.1.1)\n",
      "Requirement already satisfied: numpy in c:\\users\\masud\\anaconda3\\lib\\site-packages (from torch) (1.21.5)\n",
      "Requirement already satisfied: pillow>=4.1.1 in c:\\users\\masud\\anaconda3\\lib\\site-packages (from torchvision) (9.0.1)\n"
     ]
    },
    {
     "name": "stderr",
     "output_type": "stream",
     "text": [
      "WARNING: Ignoring invalid distribution -pencv-python-headless (c:\\users\\masud\\anaconda3\\lib\\site-packages)\n",
      "WARNING: Ignoring invalid distribution -pencv-python-headless (c:\\users\\masud\\anaconda3\\lib\\site-packages)\n",
      "WARNING: Ignoring invalid distribution -pencv-python-headless (c:\\users\\masud\\anaconda3\\lib\\site-packages)\n",
      "WARNING: Ignoring invalid distribution -pencv-python-headless (c:\\users\\masud\\anaconda3\\lib\\site-packages)\n",
      "WARNING: Ignoring invalid distribution -pencv-python-headless (c:\\users\\masud\\anaconda3\\lib\\site-packages)\n",
      "WARNING: Ignoring invalid distribution -pencv-python-headless (c:\\users\\masud\\anaconda3\\lib\\site-packages)\n"
     ]
    },
    {
     "name": "stdout",
     "output_type": "stream",
     "text": [
      "Collecting easyocr"
     ]
    },
    {
     "name": "stderr",
     "output_type": "stream",
     "text": [
      "WARNING: Ignoring invalid distribution -pencv-python-headless (c:\\users\\masud\\anaconda3\\lib\\site-packages)\n",
      "WARNING: Ignoring invalid distribution -pencv-python-headless (c:\\users\\masud\\anaconda3\\lib\\site-packages)\n",
      "WARNING: Ignoring invalid distribution -pencv-python-headless (c:\\users\\masud\\anaconda3\\lib\\site-packages)\n",
      "WARNING: Ignoring invalid distribution -pencv-python-headless (c:\\users\\masud\\anaconda3\\lib\\site-packages)\n",
      "WARNING: Ignoring invalid distribution -pencv-python-headless (c:\\users\\masud\\anaconda3\\lib\\site-packages)\n",
      "WARNING: Ignoring invalid distribution -pencv-python-headless (c:\\users\\masud\\anaconda3\\lib\\site-packages)\n",
      "WARNING: Ignoring invalid distribution -pencv-python-headless (c:\\users\\masud\\anaconda3\\lib\\site-packages)\n",
      "WARNING: Ignoring invalid distribution -pencv-python-headless (c:\\users\\masud\\anaconda3\\lib\\site-packages)\n"
     ]
    },
    {
     "name": "stdout",
     "output_type": "stream",
     "text": [
      "\n",
      "  Using cached easyocr-1.6.2-py3-none-any.whl (2.9 MB)\n",
      "Requirement already satisfied: PyYAML in c:\\users\\masud\\anaconda3\\lib\\site-packages (from easyocr) (3.13)\n",
      "Requirement already satisfied: torchvision>=0.5 in c:\\users\\masud\\anaconda3\\lib\\site-packages (from easyocr) (0.8.2+cpu)\n",
      "Collecting ninja\n",
      "  Using cached ninja-1.11.1-py2.py3-none-win_amd64.whl (313 kB)\n",
      "Requirement already satisfied: opencv-python-headless<=4.5.4.60 in c:\\users\\masud\\anaconda3\\lib\\site-packages (from easyocr) (4.5.4.60)\n",
      "Requirement already satisfied: scipy in c:\\users\\masud\\anaconda3\\lib\\site-packages (from easyocr) (1.7.3)\n",
      "Requirement already satisfied: numpy in c:\\users\\masud\\anaconda3\\lib\\site-packages (from easyocr) (1.21.5)\n",
      "Requirement already satisfied: python-bidi in c:\\users\\masud\\anaconda3\\lib\\site-packages (from easyocr) (0.4.2)\n",
      "Requirement already satisfied: torch in c:\\users\\masud\\anaconda3\\lib\\site-packages (from easyocr) (1.7.1+cpu)\n",
      "Requirement already satisfied: Shapely in c:\\users\\masud\\anaconda3\\lib\\site-packages (from easyocr) (2.0.1)\n",
      "Requirement already satisfied: Pillow in c:\\users\\masud\\anaconda3\\lib\\site-packages (from easyocr) (9.0.1)\n",
      "Requirement already satisfied: scikit-image in c:\\users\\masud\\anaconda3\\lib\\site-packages (from easyocr) (0.19.2)\n",
      "Requirement already satisfied: pyclipper in c:\\users\\masud\\anaconda3\\lib\\site-packages (from easyocr) (1.3.0.post4)\n",
      "Requirement already satisfied: typing-extensions in c:\\users\\masud\\anaconda3\\lib\\site-packages (from torch->easyocr) (4.1.1)\n",
      "Requirement already satisfied: six in c:\\users\\masud\\anaconda3\\lib\\site-packages (from python-bidi->easyocr) (1.16.0)\n",
      "Requirement already satisfied: PyWavelets>=1.1.1 in c:\\users\\masud\\anaconda3\\lib\\site-packages (from scikit-image->easyocr) (1.3.0)\n",
      "Requirement already satisfied: imageio>=2.4.1 in c:\\users\\masud\\anaconda3\\lib\\site-packages (from scikit-image->easyocr) (2.9.0)\n",
      "Requirement already satisfied: packaging>=20.0 in c:\\users\\masud\\anaconda3\\lib\\site-packages (from scikit-image->easyocr) (21.3)\n",
      "Requirement already satisfied: networkx>=2.2 in c:\\users\\masud\\anaconda3\\lib\\site-packages (from scikit-image->easyocr) (2.7.1)\n",
      "Requirement already satisfied: tifffile>=2019.7.26 in c:\\users\\masud\\anaconda3\\lib\\site-packages (from scikit-image->easyocr) (2021.7.2)\n",
      "Requirement already satisfied: pyparsing!=3.0.5,>=2.0.2 in c:\\users\\masud\\anaconda3\\lib\\site-packages (from packaging>=20.0->scikit-image->easyocr) (3.0.4)\n",
      "Installing collected packages: ninja, easyocr\n",
      "Successfully installed easyocr-1.6.2 ninja-1.11.1\n"
     ]
    }
   ],
   "source": [
    "!pip3 install torch torchvision torchaudio\n",
    "!pip install easyocr"
   ]
  },
  {
   "cell_type": "code",
   "execution_count": 5,
   "id": "451fbf11",
   "metadata": {},
   "outputs": [],
   "source": [
    "import cv2\n",
    "import numpy as np\n",
    "import easyocr\n",
    "import matplotlib.pyplot as plt\n",
    "%matplotlib inline"
   ]
  },
  {
   "cell_type": "code",
   "execution_count": 12,
   "id": "fd06591e",
   "metadata": {},
   "outputs": [],
   "source": [
    "im_1_path = 'C:/Users/masud/OneDrive/Desktop/templates/c1.png'"
   ]
  },
  {
   "cell_type": "code",
   "execution_count": 13,
   "id": "d9da227b",
   "metadata": {},
   "outputs": [],
   "source": [
    "def recognize_text(img_path):\n",
    "    '''loads an image and recognizes text.'''\n",
    "    \n",
    "    reader = easyocr.Reader(['en'])\n",
    "    return reader.readtext(img_path)"
   ]
  },
  {
   "cell_type": "code",
   "execution_count": 14,
   "id": "d7a21269",
   "metadata": {},
   "outputs": [
    {
     "name": "stderr",
     "output_type": "stream",
     "text": [
      "CUDA not available - defaulting to CPU. Note: This module is much faster with a GPU.\n"
     ]
    }
   ],
   "source": [
    "result = recognize_text(im_1_path)"
   ]
  },
  {
   "cell_type": "code",
   "execution_count": 15,
   "id": "308875d5",
   "metadata": {},
   "outputs": [
    {
     "data": {
      "text/plain": [
       "[([[12, 14], [540, 14], [540, 87], [12, 87]],\n",
       "  'It was the best of',\n",
       "  0.9546371587081008),\n",
       " ([[7, 99], [686, 99], [686, 178], [7, 178]],\n",
       "  'times, it was the worst',\n",
       "  0.8840023374813739),\n",
       " ([[11, 181], [697, 181], [697, 267], [11, 267]],\n",
       "  'of times, it was the age',\n",
       "  0.934672261329535),\n",
       " ([[11, 256], [649, 256], [649, 345], [11, 345]],\n",
       "  'of wisdom; it was the',\n",
       "  0.8371226460698975),\n",
       " ([[7, 344], [563, 344], [563, 433], [7, 433]],\n",
       "  'age of foolishness .',\n",
       "  0.7936205496626983)]"
      ]
     },
     "execution_count": 15,
     "metadata": {},
     "output_type": "execute_result"
    }
   ],
   "source": [
    "result"
   ]
  },
  {
   "cell_type": "code",
   "execution_count": null,
   "id": "8e6a9283",
   "metadata": {},
   "outputs": [],
   "source": []
  }
 ],
 "metadata": {
  "kernelspec": {
   "display_name": "Python 3 (ipykernel)",
   "language": "python",
   "name": "python3"
  },
  "language_info": {
   "codemirror_mode": {
    "name": "ipython",
    "version": 3
   },
   "file_extension": ".py",
   "mimetype": "text/x-python",
   "name": "python",
   "nbconvert_exporter": "python",
   "pygments_lexer": "ipython3",
   "version": "3.9.12"
  }
 },
 "nbformat": 4,
 "nbformat_minor": 5
}
